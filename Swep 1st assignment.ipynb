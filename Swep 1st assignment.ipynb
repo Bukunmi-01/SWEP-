{
 "cells": [
  {
   "cell_type": "code",
   "execution_count": 3,
   "id": "e1fea61f-83db-4ac7-acc6-8223294dc461",
   "metadata": {},
   "outputs": [
    {
     "name": "stdout",
     "output_type": "stream",
     "text": [
      "oluwabukunmi\n"
     ]
    }
   ],
   "source": [
    "a= \"oluwabukunmi\"\n",
    "print (a)"
   ]
  },
  {
   "cell_type": "code",
   "execution_count": 5,
   "id": "d59fb5eb-76c4-4a0d-8943-c51523e63cf9",
   "metadata": {},
   "outputs": [
    {
     "name": "stdout",
     "output_type": "stream",
     "text": [
      "cody\n"
     ]
    }
   ],
   "source": [
    "b= \"cody\"\n",
    "print (b)"
   ]
  },
  {
   "cell_type": "code",
   "execution_count": 7,
   "id": "bdd96960-b34f-41fe-bd88-98e64b6444d3",
   "metadata": {},
   "outputs": [
    {
     "name": "stdout",
     "output_type": "stream",
     "text": [
      "18\n"
     ]
    }
   ],
   "source": [
    "a= 2\n",
    "b= 3\n",
    "c= 5\n",
    "d= 8\n",
    "print (a+b+c+d)"
   ]
  },
  {
   "cell_type": "code",
   "execution_count": 11,
   "id": "2cdbfdde-b798-4ffe-901f-785d23fbe92f",
   "metadata": {},
   "outputs": [
    {
     "name": "stdout",
     "output_type": "stream",
     "text": [
      "5.0\n"
     ]
    }
   ],
   "source": [
    "print (c**a/c)"
   ]
  },
  {
   "cell_type": "code",
   "execution_count": 13,
   "id": "a22fe3b5-6fbc-46d7-aa88-80d575b6fc5e",
   "metadata": {},
   "outputs": [
    {
     "name": "stdout",
     "output_type": "stream",
     "text": [
      "170.66666666666666\n"
     ]
    }
   ],
   "source": [
    "print (d**b/b)"
   ]
  },
  {
   "cell_type": "code",
   "execution_count": 15,
   "id": "579eb9d6-69a0-4213-9440-aa6e9ebbabcb",
   "metadata": {},
   "outputs": [
    {
     "data": {
      "text/plain": [
       "float"
      ]
     },
     "execution_count": 15,
     "metadata": {},
     "output_type": "execute_result"
    }
   ],
   "source": [
    "type(c**b/b)"
   ]
  },
  {
   "cell_type": "code",
   "execution_count": 19,
   "id": "929b55cd-de5b-428d-a26c-3c878577b03b",
   "metadata": {},
   "outputs": [
    {
     "data": {
      "text/plain": [
       "bool"
      ]
     },
     "execution_count": 19,
     "metadata": {},
     "output_type": "execute_result"
    }
   ],
   "source": [
    "b= True\n",
    "type (b)"
   ]
  },
  {
   "cell_type": "code",
   "execution_count": 21,
   "id": "b4eb10a8-6693-4ff3-8ac6-213d5ce7a7bd",
   "metadata": {},
   "outputs": [
    {
     "name": "stdout",
     "output_type": "stream",
     "text": [
      "samuel\n"
     ]
    }
   ],
   "source": [
    "my_name = 'samuel' \n",
    "print (my_name)"
   ]
  },
  {
   "cell_type": "code",
   "execution_count": 23,
   "id": "f9cdd929-9417-44ae-a539-c2f431cece1b",
   "metadata": {},
   "outputs": [
    {
     "data": {
      "text/plain": [
       "'samuel'"
      ]
     },
     "execution_count": 23,
     "metadata": {},
     "output_type": "execute_result"
    }
   ],
   "source": [
    "my_name.lower()"
   ]
  },
  {
   "cell_type": "code",
   "execution_count": 26,
   "id": "f4584e29-1452-4668-84f7-31251f0db1f0",
   "metadata": {},
   "outputs": [
    {
     "data": {
      "text/plain": [
       "'SAMUEL'"
      ]
     },
     "execution_count": 26,
     "metadata": {},
     "output_type": "execute_result"
    }
   ],
   "source": [
    "my_name.upper()"
   ]
  },
  {
   "cell_type": "code",
   "execution_count": 28,
   "id": "90be01f3-af5a-4939-9685-8942a124a2f3",
   "metadata": {},
   "outputs": [
    {
     "data": {
      "text/plain": [
       "1"
      ]
     },
     "execution_count": 28,
     "metadata": {},
     "output_type": "execute_result"
    }
   ],
   "source": [
    "my_name.count('e')"
   ]
  },
  {
   "cell_type": "code",
   "execution_count": 30,
   "id": "51f5b504-73d3-4230-ba8e-e60643975d2b",
   "metadata": {},
   "outputs": [
    {
     "data": {
      "text/plain": [
       "6"
      ]
     },
     "execution_count": 30,
     "metadata": {},
     "output_type": "execute_result"
    }
   ],
   "source": [
    "len(my_name)"
   ]
  },
  {
   "cell_type": "code",
   "execution_count": 34,
   "id": "ddebad10-389a-4adb-a11c-eb0fd011105d",
   "metadata": {},
   "outputs": [
    {
     "name": "stdin",
     "output_type": "stream",
     "text": [
      "what is your age 20\n"
     ]
    },
    {
     "data": {
      "text/plain": [
       "'20'"
      ]
     },
     "execution_count": 34,
     "metadata": {},
     "output_type": "execute_result"
    }
   ],
   "source": [
    "\n",
    "input(\"what is your age\")"
   ]
  },
  {
   "cell_type": "code",
   "execution_count": 36,
   "id": "fe1a3fcc-c452-4f42-810c-7108f81e5972",
   "metadata": {},
   "outputs": [
    {
     "name": "stdin",
     "output_type": "stream",
     "text": [
      "what are you wearing A crop top\n"
     ]
    }
   ],
   "source": [
    "cloth_type = input(\"what are you wearing\")\n"
   ]
  },
  {
   "cell_type": "code",
   "execution_count": 38,
   "id": "42592f67-3aaf-49be-9e1b-df24f2a8934f",
   "metadata": {},
   "outputs": [
    {
     "name": "stdout",
     "output_type": "stream",
     "text": [
      "A crop top\n"
     ]
    }
   ],
   "source": [
    "print (cloth_type)"
   ]
  },
  {
   "cell_type": "code",
   "execution_count": 46,
   "id": "b9e70109-ba30-4631-9b2f-82c269991947",
   "metadata": {},
   "outputs": [
    {
     "ename": "SyntaxError",
     "evalue": "unterminated string literal (detected at line 3) (772589370.py, line 3)",
     "output_type": "error",
     "traceback": [
      "\u001b[0;36m  Cell \u001b[0;32mIn[46], line 3\u001b[0;36m\u001b[0m\n\u001b[0;31m    print (f\"Welcome Mr.{name}, it is good to have a {age} in our company )\u001b[0m\n\u001b[0m           ^\u001b[0m\n\u001b[0;31mSyntaxError\u001b[0m\u001b[0;31m:\u001b[0m unterminated string literal (detected at line 3)\n"
     ]
    }
   ],
   "source": [
    "name = input(\"what is your name\")\n",
    "age = input(\"what is your age bracket\")\n",
    "print (f\"Welcome Mr.{name}, it is good to have a {age} in our company )"
   ]
  },
  {
   "cell_type": "code",
   "execution_count": 49,
   "id": "eaa7eeb9-53ca-47c6-8027-dc66c0f51055",
   "metadata": {},
   "outputs": [
    {
     "name": "stdout",
     "output_type": "stream",
     "text": [
      "hello world\n"
     ]
    }
   ],
   "source": [
    "print ('hello world')"
   ]
  }
 ],
 "metadata": {
  "kernelspec": {
   "display_name": "anaconda-panel-2023.05-py310",
   "language": "python",
   "name": "conda-env-anaconda-panel-2023.05-py310-py"
  },
  "language_info": {
   "codemirror_mode": {
    "name": "ipython",
    "version": 3
   },
   "file_extension": ".py",
   "mimetype": "text/x-python",
   "name": "python",
   "nbconvert_exporter": "python",
   "pygments_lexer": "ipython3",
   "version": "3.11.5"
  }
 },
 "nbformat": 4,
 "nbformat_minor": 5
}
